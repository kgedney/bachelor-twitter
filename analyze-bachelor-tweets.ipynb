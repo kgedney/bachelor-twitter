{
 "cells": [
  {
   "cell_type": "markdown",
   "metadata": {},
   "source": [
    "## Bachelor Nation -  Analyze Tweets"
   ]
  },
  {
   "cell_type": "markdown",
   "metadata": {},
   "source": [
    "#### Prep"
   ]
  },
  {
   "cell_type": "code",
   "execution_count": 2,
   "metadata": {
    "collapsed": true
   },
   "outputs": [],
   "source": [
    "#- set working directory\n",
    "import os\n",
    "project_root = '/Users/kgedney/Documents/projects/bachelor-twitter'\n",
    "os.chdir(project_root)"
   ]
  },
  {
   "cell_type": "code",
   "execution_count": 3,
   "metadata": {
    "collapsed": true
   },
   "outputs": [],
   "source": [
    "#- install packages\n",
    "import sys\n",
    "import json\n",
    "import numpy as np\n",
    "import pandas as pd"
   ]
  },
  {
   "cell_type": "code",
   "execution_count": 6,
   "metadata": {},
   "outputs": [],
   "source": [
    "# load data from json lines file\n",
    "data = pd.read_json('data.jl.bak', lines=True)"
   ]
  },
  {
   "cell_type": "markdown",
   "metadata": {},
   "source": [
    "#### Analysis"
   ]
  },
  {
   "cell_type": "code",
   "execution_count": 14,
   "metadata": {},
   "outputs": [
    {
     "data": {
      "text/html": [
       "<div>\n",
       "<style scoped>\n",
       "    .dataframe tbody tr th:only-of-type {\n",
       "        vertical-align: middle;\n",
       "    }\n",
       "\n",
       "    .dataframe tbody tr th {\n",
       "        vertical-align: top;\n",
       "    }\n",
       "\n",
       "    .dataframe thead th {\n",
       "        text-align: right;\n",
       "    }\n",
       "</style>\n",
       "<table border=\"1\" class=\"dataframe\">\n",
       "  <thead>\n",
       "    <tr style=\"text-align: right;\">\n",
       "      <th></th>\n",
       "      <th>contributors</th>\n",
       "      <th>coordinates</th>\n",
       "      <th>created_at</th>\n",
       "      <th>display_text_range</th>\n",
       "      <th>entities</th>\n",
       "      <th>extended_entities</th>\n",
       "      <th>extended_tweet</th>\n",
       "      <th>favorite_count</th>\n",
       "      <th>favorited</th>\n",
       "      <th>filter_level</th>\n",
       "      <th>...</th>\n",
       "      <th>retweet_count</th>\n",
       "      <th>retweeted</th>\n",
       "      <th>retweeted_status</th>\n",
       "      <th>source</th>\n",
       "      <th>text</th>\n",
       "      <th>timestamp_ms</th>\n",
       "      <th>truncated</th>\n",
       "      <th>user</th>\n",
       "      <th>user__screen_name</th>\n",
       "      <th>user__location</th>\n",
       "    </tr>\n",
       "  </thead>\n",
       "  <tbody>\n",
       "    <tr>\n",
       "      <th>0</th>\n",
       "      <td>NaN</td>\n",
       "      <td>NaN</td>\n",
       "      <td>2019-02-25 23:31:50</td>\n",
       "      <td>[21, 42]</td>\n",
       "      <td>{'hashtags': [], 'urls': [], 'user_mentions': ...</td>\n",
       "      <td>NaN</td>\n",
       "      <td>NaN</td>\n",
       "      <td>0</td>\n",
       "      <td>False</td>\n",
       "      <td>low</td>\n",
       "      <td>...</td>\n",
       "      <td>0</td>\n",
       "      <td>False</td>\n",
       "      <td>NaN</td>\n",
       "      <td>&lt;a href=\"http://twitter.com/download/iphone\" r...</td>\n",
       "      <td>@colton @BachelorABC Cassie or Caelynn !!!</td>\n",
       "      <td>2019-02-25 23:31:50.931</td>\n",
       "      <td>False</td>\n",
       "      <td>{'id': 715980219383996416, 'id_str': '71598021...</td>\n",
       "      <td>nicholemarie122</td>\n",
       "      <td>Rockville, CT</td>\n",
       "    </tr>\n",
       "    <tr>\n",
       "      <th>1</th>\n",
       "      <td>NaN</td>\n",
       "      <td>NaN</td>\n",
       "      <td>2019-02-25 23:31:53</td>\n",
       "      <td>NaN</td>\n",
       "      <td>{'hashtags': [], 'urls': [], 'user_mentions': ...</td>\n",
       "      <td>NaN</td>\n",
       "      <td>NaN</td>\n",
       "      <td>0</td>\n",
       "      <td>False</td>\n",
       "      <td>low</td>\n",
       "      <td>...</td>\n",
       "      <td>0</td>\n",
       "      <td>False</td>\n",
       "      <td>NaN</td>\n",
       "      <td>&lt;a href=\"http://twitter.com/download/iphone\" r...</td>\n",
       "      <td>Un-freaking-believable.</td>\n",
       "      <td>2019-02-25 23:31:53.701</td>\n",
       "      <td>False</td>\n",
       "      <td>{'id': 4591899755, 'id_str': '4591899755', 'na...</td>\n",
       "      <td>maxbaker_15</td>\n",
       "      <td>None</td>\n",
       "    </tr>\n",
       "    <tr>\n",
       "      <th>2</th>\n",
       "      <td>NaN</td>\n",
       "      <td>NaN</td>\n",
       "      <td>2019-02-25 23:31:54</td>\n",
       "      <td>NaN</td>\n",
       "      <td>{'hashtags': [], 'urls': [], 'user_mentions': ...</td>\n",
       "      <td>NaN</td>\n",
       "      <td>NaN</td>\n",
       "      <td>0</td>\n",
       "      <td>False</td>\n",
       "      <td>low</td>\n",
       "      <td>...</td>\n",
       "      <td>0</td>\n",
       "      <td>False</td>\n",
       "      <td>NaN</td>\n",
       "      <td>&lt;a href=\"http://twitter.com/download/iphone\" r...</td>\n",
       "      <td>Hometowns today ❣️❣️</td>\n",
       "      <td>2019-02-25 23:31:54.416</td>\n",
       "      <td>False</td>\n",
       "      <td>{'id': 360440805, 'id_str': '360440805', 'name...</td>\n",
       "      <td>claw_uh_dia</td>\n",
       "      <td>None</td>\n",
       "    </tr>\n",
       "    <tr>\n",
       "      <th>3</th>\n",
       "      <td>NaN</td>\n",
       "      <td>NaN</td>\n",
       "      <td>2019-02-25 23:31:56</td>\n",
       "      <td>NaN</td>\n",
       "      <td>{'hashtags': [{'text': 'TheBachelor', 'indices...</td>\n",
       "      <td>NaN</td>\n",
       "      <td>NaN</td>\n",
       "      <td>0</td>\n",
       "      <td>False</td>\n",
       "      <td>low</td>\n",
       "      <td>...</td>\n",
       "      <td>0</td>\n",
       "      <td>False</td>\n",
       "      <td>{'created_at': 'Mon Feb 25 22:16:39 +0000 2019...</td>\n",
       "      <td>&lt;a href=\"http://twitter.com/download/iphone\" r...</td>\n",
       "      <td>RT @colton: Who is ready to JUMP into hometown...</td>\n",
       "      <td>2019-02-25 23:31:56.251</td>\n",
       "      <td>False</td>\n",
       "      <td>{'id': 2825761515, 'id_str': '2825761515', 'na...</td>\n",
       "      <td>HeyItsVladis</td>\n",
       "      <td>None</td>\n",
       "    </tr>\n",
       "    <tr>\n",
       "      <th>4</th>\n",
       "      <td>NaN</td>\n",
       "      <td>NaN</td>\n",
       "      <td>2019-02-25 23:32:04</td>\n",
       "      <td>NaN</td>\n",
       "      <td>{'hashtags': [], 'urls': [{'url': 'https://t.c...</td>\n",
       "      <td>NaN</td>\n",
       "      <td>{'full_text': 'I am old enough to have devoted...</td>\n",
       "      <td>0</td>\n",
       "      <td>False</td>\n",
       "      <td>low</td>\n",
       "      <td>...</td>\n",
       "      <td>0</td>\n",
       "      <td>False</td>\n",
       "      <td>NaN</td>\n",
       "      <td>&lt;a href=\"http://twitter.com/download/iphone\" r...</td>\n",
       "      <td>I am old enough to have devoted a summer of my...</td>\n",
       "      <td>2019-02-25 23:32:04.976</td>\n",
       "      <td>True</td>\n",
       "      <td>{'id': 1612067526, 'id_str': '1612067526', 'na...</td>\n",
       "      <td>bryanbehar</td>\n",
       "      <td>Studio City, CA</td>\n",
       "    </tr>\n",
       "  </tbody>\n",
       "</table>\n",
       "<p>5 rows × 38 columns</p>\n",
       "</div>"
      ],
      "text/plain": [
       "   contributors  coordinates          created_at display_text_range  \\\n",
       "0           NaN          NaN 2019-02-25 23:31:50           [21, 42]   \n",
       "1           NaN          NaN 2019-02-25 23:31:53                NaN   \n",
       "2           NaN          NaN 2019-02-25 23:31:54                NaN   \n",
       "3           NaN          NaN 2019-02-25 23:31:56                NaN   \n",
       "4           NaN          NaN 2019-02-25 23:32:04                NaN   \n",
       "\n",
       "                                            entities extended_entities  \\\n",
       "0  {'hashtags': [], 'urls': [], 'user_mentions': ...               NaN   \n",
       "1  {'hashtags': [], 'urls': [], 'user_mentions': ...               NaN   \n",
       "2  {'hashtags': [], 'urls': [], 'user_mentions': ...               NaN   \n",
       "3  {'hashtags': [{'text': 'TheBachelor', 'indices...               NaN   \n",
       "4  {'hashtags': [], 'urls': [{'url': 'https://t.c...               NaN   \n",
       "\n",
       "                                      extended_tweet  favorite_count  \\\n",
       "0                                                NaN               0   \n",
       "1                                                NaN               0   \n",
       "2                                                NaN               0   \n",
       "3                                                NaN               0   \n",
       "4  {'full_text': 'I am old enough to have devoted...               0   \n",
       "\n",
       "   favorited filter_level       ...         retweet_count  retweeted  \\\n",
       "0      False          low       ...                     0      False   \n",
       "1      False          low       ...                     0      False   \n",
       "2      False          low       ...                     0      False   \n",
       "3      False          low       ...                     0      False   \n",
       "4      False          low       ...                     0      False   \n",
       "\n",
       "                                    retweeted_status  \\\n",
       "0                                                NaN   \n",
       "1                                                NaN   \n",
       "2                                                NaN   \n",
       "3  {'created_at': 'Mon Feb 25 22:16:39 +0000 2019...   \n",
       "4                                                NaN   \n",
       "\n",
       "                                              source  \\\n",
       "0  <a href=\"http://twitter.com/download/iphone\" r...   \n",
       "1  <a href=\"http://twitter.com/download/iphone\" r...   \n",
       "2  <a href=\"http://twitter.com/download/iphone\" r...   \n",
       "3  <a href=\"http://twitter.com/download/iphone\" r...   \n",
       "4  <a href=\"http://twitter.com/download/iphone\" r...   \n",
       "\n",
       "                                                text            timestamp_ms  \\\n",
       "0         @colton @BachelorABC Cassie or Caelynn !!! 2019-02-25 23:31:50.931   \n",
       "1                            Un-freaking-believable. 2019-02-25 23:31:53.701   \n",
       "2                               Hometowns today ❣️❣️ 2019-02-25 23:31:54.416   \n",
       "3  RT @colton: Who is ready to JUMP into hometown... 2019-02-25 23:31:56.251   \n",
       "4  I am old enough to have devoted a summer of my... 2019-02-25 23:32:04.976   \n",
       "\n",
       "   truncated                                               user  \\\n",
       "0      False  {'id': 715980219383996416, 'id_str': '71598021...   \n",
       "1      False  {'id': 4591899755, 'id_str': '4591899755', 'na...   \n",
       "2      False  {'id': 360440805, 'id_str': '360440805', 'name...   \n",
       "3      False  {'id': 2825761515, 'id_str': '2825761515', 'na...   \n",
       "4       True  {'id': 1612067526, 'id_str': '1612067526', 'na...   \n",
       "\n",
       "   user__screen_name   user__location  \n",
       "0    nicholemarie122    Rockville, CT  \n",
       "1        maxbaker_15             None  \n",
       "2        claw_uh_dia             None  \n",
       "3       HeyItsVladis             None  \n",
       "4         bryanbehar  Studio City, CA  \n",
       "\n",
       "[5 rows x 38 columns]"
      ]
     },
     "execution_count": 14,
     "metadata": {},
     "output_type": "execute_result"
    }
   ],
   "source": [
    "data.user.iloc[0]\n",
    "\n",
    "data['user__screen_name'] = data.user.apply(lambda x: x['screen_name'])\n",
    "data['user__location']    = data.user.apply(lambda x: x['location'])\n",
    "data.head()\n"
   ]
  },
  {
   "cell_type": "code",
   "execution_count": null,
   "metadata": {
    "collapsed": true
   },
   "outputs": [],
   "source": [
    "# status.text -> text of the tweet\n",
    "# status.user.location -> name of location\n",
    "# status.coordinates -> geolocation in lat/long\n",
    "# status.created_at -> timsestamp"
   ]
  },
  {
   "cell_type": "code",
   "execution_count": null,
   "metadata": {
    "collapsed": true
   },
   "outputs": [],
   "source": [
    "#                 return True\n",
    "#         text      = status.text\n",
    "#         loc       = status.user.location\n",
    "#         coords    = status.coordinates\n",
    "#         timestamp = status.created_at\n",
    "   "
   ]
  },
  {
   "cell_type": "markdown",
   "metadata": {},
   "source": [
    "#### Tweets Over Time"
   ]
  },
  {
   "cell_type": "code",
   "execution_count": null,
   "metadata": {
    "collapsed": true
   },
   "outputs": [],
   "source": []
  },
  {
   "cell_type": "code",
   "execution_count": null,
   "metadata": {
    "collapsed": true
   },
   "outputs": [],
   "source": []
  },
  {
   "cell_type": "markdown",
   "metadata": {},
   "source": [
    "#### Tweets by Platform"
   ]
  },
  {
   "cell_type": "code",
   "execution_count": 42,
   "metadata": {},
   "outputs": [
    {
     "data": {
      "text/plain": [
       "Twitter for iPhone     36\n",
       "Twitter for Android     4\n",
       "Twitter Web App         3\n",
       "cinchtweetBB            1\n",
       "TweetDeck               1\n",
       "Twitter Web Client      1\n",
       "Name: short_source, dtype: int64"
      ]
     },
     "execution_count": 42,
     "metadata": {},
     "output_type": "execute_result"
    }
   ],
   "source": [
    "# clean up source and plot results\n",
    "\n",
    "from bs4 import BeautifulSoup\n",
    "\n",
    "def clean_source(x):\n",
    "    return BeautifulSoup(x, \"lxml\").text\n",
    "\n",
    "data['short_source'] = data.source.apply(clean_source)\n",
    "data['short_source'].value_counts()"
   ]
  },
  {
   "cell_type": "code",
   "execution_count": 46,
   "metadata": {},
   "outputs": [
    {
     "data": {
      "image/png": "[encoded data removed]",
      "text/plain": [
       "<matplotlib.figure.Figure at 0x118c45128>"
      ]
     },
     "metadata": {},
     "output_type": "display_data"
    }
   ],
   "source": [
    "from matplotlib import pyplot as plt\n",
    "data.short_source.value_counts().plot.barh()\n",
    "plt.title('Tweets by Platform')\n",
    "plt.show()"
   ]
  },
  {
   "cell_type": "code",
   "execution_count": null,
   "metadata": {
    "collapsed": true
   },
   "outputs": [],
   "source": []
  }
 ],
 "metadata": {
  "kernelspec": {
   "display_name": "Python 3",
   "language": "python",
   "name": "python3"
  },
  "language_info": {
   "codemirror_mode": {
    "name": "ipython",
    "version": 3
   },
   "file_extension": ".py",
   "mimetype": "text/x-python",
   "name": "python",
   "nbconvert_exporter": "python",
   "pygments_lexer": "ipython3",
   "version": "3.6.1"
  }
 },
 "nbformat": 4,
 "nbformat_minor": 2
}
